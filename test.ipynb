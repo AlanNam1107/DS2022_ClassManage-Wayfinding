{
 "cells": [
  {
   "cell_type": "code",
   "execution_count": 79,
   "metadata": {},
   "outputs": [
    {
     "name": "stdout",
     "output_type": "stream",
     "text": [
      "              Gender      Name       Class\n",
      "StudentNumber                             \n",
      "2020211555         M  ziyi guo  [101, 102]\n",
      "The classes of the new student are empty by default. Use add_class() to update.\n",
      "[['2020211554', 'M', 'ME', []]]\n"
     ]
    },
    {
     "ename": "UnboundLocalError",
     "evalue": "local variable 'df' referenced before assignment",
     "output_type": "error",
     "traceback": [
      "\u001b[0;31m---------------------------------------------------------------------------\u001b[0m",
      "\u001b[0;31mUnboundLocalError\u001b[0m                         Traceback (most recent call last)",
      "\u001b[1;32m/Users/azus/Documents/Code/Py/DS/test.ipynb Cell 1'\u001b[0m in \u001b[0;36m<cell line: 61>\u001b[0;34m()\u001b[0m\n\u001b[1;32m     <a href='vscode-notebook-cell:/Users/azus/Documents/Code/Py/DS/test.ipynb#ch0000000?line=56'>57</a>\u001b[0m \u001b[39massert\u001b[39;00m add_class(\u001b[39m2020211555\u001b[39m, classes), \u001b[39m'\u001b[39m\u001b[39mStudent Number Not Found\u001b[39m\u001b[39m'\u001b[39m\n\u001b[1;32m     <a href='vscode-notebook-cell:/Users/azus/Documents/Code/Py/DS/test.ipynb#ch0000000?line=57'>58</a>\u001b[0m \u001b[39mprint\u001b[39m(df\u001b[39m.\u001b[39mto_string())\n\u001b[0;32m---> <a href='vscode-notebook-cell:/Users/azus/Documents/Code/Py/DS/test.ipynb#ch0000000?line=60'>61</a>\u001b[0m add_student(get_new_student())\n\u001b[1;32m     <a href='vscode-notebook-cell:/Users/azus/Documents/Code/Py/DS/test.ipynb#ch0000000?line=61'>62</a>\u001b[0m \u001b[39mprint\u001b[39m(df\u001b[39m.\u001b[39mto_string())\n",
      "\u001b[1;32m/Users/azus/Documents/Code/Py/DS/test.ipynb Cell 1'\u001b[0m in \u001b[0;36madd_student\u001b[0;34m(student)\u001b[0m\n\u001b[1;32m     <a href='vscode-notebook-cell:/Users/azus/Documents/Code/Py/DS/test.ipynb#ch0000000?line=29'>30</a>\u001b[0m new_stu \u001b[39m=\u001b[39m pd\u001b[39m.\u001b[39mDataFrame(student, columns\u001b[39m=\u001b[39m[\n\u001b[1;32m     <a href='vscode-notebook-cell:/Users/azus/Documents/Code/Py/DS/test.ipynb#ch0000000?line=30'>31</a>\u001b[0m     \u001b[39m'\u001b[39m\u001b[39mStudentNumber\u001b[39m\u001b[39m'\u001b[39m, \u001b[39m'\u001b[39m\u001b[39mGender\u001b[39m\u001b[39m'\u001b[39m, \u001b[39m'\u001b[39m\u001b[39mName\u001b[39m\u001b[39m'\u001b[39m, \u001b[39m'\u001b[39m\u001b[39mClass\u001b[39m\u001b[39m'\u001b[39m])\n\u001b[1;32m     <a href='vscode-notebook-cell:/Users/azus/Documents/Code/Py/DS/test.ipynb#ch0000000?line=31'>32</a>\u001b[0m new_stu\u001b[39m.\u001b[39mset_index(\u001b[39m'\u001b[39m\u001b[39mStudentNumber\u001b[39m\u001b[39m'\u001b[39m, inplace\u001b[39m=\u001b[39m\u001b[39mTrue\u001b[39;00m)\n\u001b[0;32m---> <a href='vscode-notebook-cell:/Users/azus/Documents/Code/Py/DS/test.ipynb#ch0000000?line=32'>33</a>\u001b[0m df \u001b[39m=\u001b[39m pd\u001b[39m.\u001b[39mconcat([df, new_stu])\n\u001b[1;32m     <a href='vscode-notebook-cell:/Users/azus/Documents/Code/Py/DS/test.ipynb#ch0000000?line=33'>34</a>\u001b[0m \u001b[39m# df.to_csv(DB_PATH)\u001b[39;00m\n\u001b[1;32m     <a href='vscode-notebook-cell:/Users/azus/Documents/Code/Py/DS/test.ipynb#ch0000000?line=34'>35</a>\u001b[0m logger\u001b[39m.\u001b[39minfo(\u001b[39mf\u001b[39m\u001b[39m'\u001b[39m\u001b[39mNEW STUDENT ADDED:\u001b[39m\u001b[39m{\u001b[39;00mdf\u001b[39m.\u001b[39mloc[student[\u001b[39m0\u001b[39m]]\u001b[39m.\u001b[39mto_string()\u001b[39m}\u001b[39;00m\u001b[39m'\u001b[39m)\n",
      "\u001b[0;31mUnboundLocalError\u001b[0m: local variable 'df' referenced before assignment"
     ]
    }
   ],
   "source": [
    "import pandas as pd \n",
    "# StudentNumber, Gender, Name, Class\n",
    "import logging\n",
    "\n",
    "# Logging\n",
    "logger = logging.getLogger(__name__)\n",
    "logger.setLevel(level=logging.INFO)\n",
    "handler = logging.FileHandler(\"log.txt\")\n",
    "handler.setLevel(logging.INFO)\n",
    "formatter = logging.Formatter(\n",
    "    '%(asctime)s - %(name)s - %(levelname)s - %(message)s')\n",
    "handler.setFormatter(formatter)\n",
    "logger.addHandler(handler)\n",
    "\n",
    "# logger.info(\"Start print log\")\n",
    "# logger.debug(\"Do something\")\n",
    "# logger.warning(\"Something maybe fail.\")\n",
    "\n",
    "\n",
    "DB_PATH = './DB/student.csv'\n",
    "\n",
    "df = pd.read_csv(DB_PATH)\n",
    "df = df.set_index('StudentNumber')\n",
    "    \n",
    "\n",
    "def add_student(student:list):\n",
    "\n",
    "    logger.INFO\n",
    "    new_stu = pd.DataFrame(student, columns=[\n",
    "        'StudentNumber', 'Gender', 'Name', 'Class'])\n",
    "    new_stu.set_index('StudentNumber', inplace=True)\n",
    "    df = pd.concat([df, new_stu])\n",
    "    df.to_csv(DB_PATH)\n",
    "\n",
    "\n",
    "    \n",
    "\n",
    "def get_new_student() -> list:\n",
    "    new_stu=[]\n",
    "    print('The classes of the new student are empty by default. Use add_class() to update.')\n",
    "    new_stu = [[input(\"Student number:\"), input(\n",
    "        \"Gender:\"), input(\"Name:\"), []]]\n",
    "    print(new_stu)\n",
    "    return new_stu\n",
    "\n",
    "def add_class(student:int, classes:list) -> bool:\n",
    "    try:\n",
    "        df.loc[student]['Class']=classes\n",
    "    except KeyError:\n",
    "        return False\n",
    "    return True\n",
    "    \n",
    "\n",
    "classes = [101, 102]\n",
    "assert add_class(202021155, classes), 'Student Number Not Found'\n",
    "print(df.to_string())\n",
    "\n",
    "\n",
    "\n",
    "\n",
    "# print(df.to_string())\n",
    "\n",
    "\n",
    "# df.append(series)\n",
    "\n",
    "# print(df.to_string())\n",
    "# print(get_new_student())\n",
    "\n",
    "    \n",
    "    \n",
    "\n",
    "\n",
    "# print(df.index('ziyi'))\n",
    "# df.to_string()\n"
   ]
  },
  {
   "cell_type": "code",
   "execution_count": null,
   "metadata": {},
   "outputs": [],
   "source": [
    "\n",
    "new_stu = get_new_student()\n",
    "\n",
    "\n",
    "new_stu = pd.DataFrame(new_stu, columns=[\n",
    "    'StudentNumber', 'Gender', 'Name', 'Class'])\n",
    "print(new_stu)\n",
    "new_stu.set_index('StudentNumber', inplace=True)\n",
    "print(new_stu)\n",
    "\n",
    "df = pd.concat([df, new_stu])\n",
    "print(df)\n"
   ]
  },
  {
   "cell_type": "code",
   "execution_count": null,
   "metadata": {},
   "outputs": [],
   "source": []
  },
  {
   "cell_type": "code",
   "execution_count": null,
   "metadata": {},
   "outputs": [],
   "source": []
  },
  {
   "cell_type": "code",
   "execution_count": null,
   "metadata": {},
   "outputs": [],
   "source": []
  },
  {
   "cell_type": "code",
   "execution_count": null,
   "metadata": {},
   "outputs": [],
   "source": []
  },
  {
   "cell_type": "code",
   "execution_count": null,
   "metadata": {},
   "outputs": [],
   "source": []
  },
  {
   "cell_type": "code",
   "execution_count": null,
   "metadata": {},
   "outputs": [],
   "source": []
  },
  {
   "cell_type": "code",
   "execution_count": null,
   "metadata": {},
   "outputs": [],
   "source": []
  },
  {
   "cell_type": "code",
   "execution_count": null,
   "metadata": {},
   "outputs": [],
   "source": []
  },
  {
   "cell_type": "code",
   "execution_count": null,
   "metadata": {},
   "outputs": [],
   "source": [
    "dic_ziyi = {\n",
    "    'StuNo': 2020211555,\n",
    "    'Gender': 'M',\n",
    "    'Name': 'ziyi guo',\n",
    "    'Class': [],\n",
    "}\n",
    "\n",
    "array_ziyi = [[2020211555, 'M', 'ziyi guo', []]]\n",
    "\n",
    "\n",
    "df = pd.DataFrame(array_ziyi, columns=[\n",
    "                  'StudentNumber', 'Gender', 'Name', 'Class'])\n",
    "df.set_index('StudentNumber', inplace=True)\n",
    "df.to_csv('student.csv')\n"
   ]
  },
  {
   "cell_type": "code",
   "execution_count": null,
   "metadata": {},
   "outputs": [],
   "source": [
    "df.to_string()"
   ]
  },
  {
   "cell_type": "code",
   "execution_count": null,
   "metadata": {},
   "outputs": [],
   "source": []
  }
 ],
 "metadata": {
  "interpreter": {
   "hash": "c6e4e9f98eb68ad3b7c296f83d20e6de614cb42e90992a65aa266555a3137d0d"
  },
  "kernelspec": {
   "display_name": "Python 3.9.6 ('base')",
   "language": "python",
   "name": "python3"
  },
  "language_info": {
   "codemirror_mode": {
    "name": "ipython",
    "version": 3
   },
   "file_extension": ".py",
   "mimetype": "text/x-python",
   "name": "python",
   "nbconvert_exporter": "python",
   "pygments_lexer": "ipython3",
   "version": "3.9.12"
  },
  "orig_nbformat": 4
 },
 "nbformat": 4,
 "nbformat_minor": 2
}
