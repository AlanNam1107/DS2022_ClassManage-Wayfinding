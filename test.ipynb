{
 "cells": [
  {
   "cell_type": "code",
   "execution_count": 2,
   "metadata": {},
   "outputs": [
    {
     "name": "stdout",
     "output_type": "stream",
     "text": [
      "AllCatsGoToHeaven 2.jpeg\n"
     ]
    },
    {
     "ename": "AttributeError",
     "evalue": "module 'posixpath' has no attribute 'splitunc'",
     "output_type": "error",
     "traceback": [
      "\u001b[0;31m---------------------------------------------------------------------------\u001b[0m",
      "\u001b[0;31mAttributeError\u001b[0m                            Traceback (most recent call last)",
      "\u001b[1;32m/Users/azus/Documents/Code/Py/DS/test.ipynb Cell 1'\u001b[0m in \u001b[0;36m<cell line: 24>\u001b[0;34m()\u001b[0m\n\u001b[1;32m     <a href='vscode-notebook-cell:/Users/azus/Documents/Code/Py/DS/test.ipynb#ch0000000?line=21'>22</a>\u001b[0m \u001b[39m# print(hash(path))\u001b[39;00m\n\u001b[1;32m     <a href='vscode-notebook-cell:/Users/azus/Documents/Code/Py/DS/test.ipynb#ch0000000?line=22'>23</a>\u001b[0m \u001b[39mprint\u001b[39m(os\u001b[39m.\u001b[39mpath\u001b[39m.\u001b[39mbasename(path))\n\u001b[0;32m---> <a href='vscode-notebook-cell:/Users/azus/Documents/Code/Py/DS/test.ipynb#ch0000000?line=23'>24</a>\u001b[0m \u001b[39mprint\u001b[39m(os\u001b[39m.\u001b[39;49mpath\u001b[39m.\u001b[39;49msplitunc(path))\n\u001b[1;32m     <a href='vscode-notebook-cell:/Users/azus/Documents/Code/Py/DS/test.ipynb#ch0000000?line=24'>25</a>\u001b[0m \u001b[39mprint\u001b[39m(os\u001b[39m.\u001b[39mpath\u001b[39m.\u001b[39msplitext(path))\n",
      "\u001b[0;31mAttributeError\u001b[0m: module 'posixpath' has no attribute 'splitunc'"
     ]
    }
   ],
   "source": [
    "#!/usr/bin/python\n",
    "import json\n",
    "import os\n",
    "import hashlib \n",
    "\n",
    "\n",
    "path = \"/Users/azus/Documents/Code/Py/DS/AllCatsGoToHeaven 2.jpeg\"\n",
    "# path.encode(\"utf-8\")\n",
    "\n",
    "def hash(file_path, Bytes=1024):\n",
    "    # new md5 object\n",
    "    _MD5 = hashlib.md5()\n",
    "    with open(file_path, 'rb') as f:\n",
    "        # read in first batch\n",
    "        data=f.read(Bytes)\n",
    "        # until empty\n",
    "        while(data):\n",
    "            _MD5.update(data)\n",
    "            data=f.read(Bytes)\n",
    "    ret = _MD5.hexdigest()\n",
    "    return ret\n",
    "# print(hash(path))\n",
    "print(os.path.basename(path))\n",
    "print(os.path.splitunc(path))\n",
    "print(os.path.splitext(path))\n",
    "# print(hash(path))"
   ]
  },
  {
   "cell_type": "code",
   "execution_count": null,
   "metadata": {},
   "outputs": [],
   "source": [
    "# -*- encoding:utf-8 -*-\n",
    "import math\n",
    "import jieba\n",
    "import jieba.analyse\n",
    "class SimHash(object):\n",
    "    def getBinStr(self, source):\n",
    "        if source == \"\":\n",
    "            return 0\n",
    "        else:\n",
    "            x = ord(source[0]) << 7\n",
    "            m = 1000003\n",
    "            mask = 2 ** 128 - 1\n",
    "            for c in source:\n",
    "                x = ((x * m) ^ ord(c)) & mask\n",
    "            x ^= len(source)\n",
    "            if x == -1:\n",
    "                x = -2\n",
    "            x = bin(x).replace('0b', '').zfill(64)[-64:]\n",
    "            return str(x)\n",
    "    def getWeight(self, source):\n",
    "        return ord(source)\n",
    "    def unwrap_weight(self, arr):\n",
    "        ret = \"\"\n",
    "        for item in arr:\n",
    "            tmp = 0\n",
    "            if int(item) > 0:\n",
    "                tmp = 1\n",
    "            ret += str(tmp)\n",
    "        return ret\n",
    "    def sim_hash(self, rawstr):\n",
    "        seg = jieba.cut(rawstr)\n",
    "        keywords = jieba.analyse.extract_tags(\"|\".join(seg), topK=100, withWeight=True)\n",
    "        ret = []\n",
    "        for keyword, weight in keywords:\n",
    "            binstr = self.getBinStr(keyword)\n",
    "            keylist = []\n",
    "            for c in binstr:\n",
    "                weight = math.ceil(weight)\n",
    "                if c == \"1\":\n",
    "                    keylist.append(int(weight))\n",
    "                else:\n",
    "                    keylist.append(-int(weight))\n",
    "            ret.append(keylist)\n",
    "        # 降维\n",
    "        rows = len(ret)\n",
    "        cols = len(ret[0])\n",
    "        result = []\n",
    "        for i in range(cols):\n",
    "            tmp = 0\n",
    "            for j in range(rows):\n",
    "                tmp += int(ret[j][i])\n",
    "            if tmp > 0:\n",
    "                tmp = \"1\"\n",
    "            elif tmp <= 0:\n",
    "                tmp = \"0\"\n",
    "            result.append(tmp)\n",
    "        return \"\".join(result)\n",
    "    def distince(self, hashstr1, hashstr2):\n",
    "        length = 0\n",
    "        for index, char in enumerate(hashstr1):\n",
    "            if char == hashstr2[index]:\n",
    "                continue\n",
    "            else:\n",
    "                length += 1\n",
    "        return length\n",
    "if __name__ == \"__main__\":\n",
    "    simhash = SimHash()\n",
    "    str1 = '咱哥俩谁跟谁啊'\n",
    "    str2 = '咱们俩谁跟谁啊'\n",
    "    hash1 = simhash.sim_hash(str1)\n",
    "    print(hash1)\n",
    "    hash2 = simhash.sim_hash(str2)\n",
    "    distince = simhash.distince(hash1, hash2)\n",
    "    value = 5\n",
    "    print(\"simhash\", distince, \"距离：\", value, \"是否相似：\", distince<=value)"
   ]
  },
  {
   "cell_type": "code",
   "execution_count": null,
   "metadata": {},
   "outputs": [],
   "source": []
  },
  {
   "cell_type": "code",
   "execution_count": null,
   "metadata": {},
   "outputs": [],
   "source": []
  }
 ],
 "metadata": {
  "interpreter": {
   "hash": "c6e4e9f98eb68ad3b7c296f83d20e6de614cb42e90992a65aa266555a3137d0d"
  },
  "kernelspec": {
   "display_name": "Python 3.9.6 ('base')",
   "language": "python",
   "name": "python3"
  },
  "language_info": {
   "codemirror_mode": {
    "name": "ipython",
    "version": 3
   },
   "file_extension": ".py",
   "mimetype": "text/x-python",
   "name": "python",
   "nbconvert_exporter": "python",
   "pygments_lexer": "ipython3",
   "version": "3.9.12"
  },
  "orig_nbformat": 4
 },
 "nbformat": 4,
 "nbformat_minor": 2
}
